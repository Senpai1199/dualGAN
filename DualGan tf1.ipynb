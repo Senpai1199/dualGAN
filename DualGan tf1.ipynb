{
  "nbformat": 4,
  "nbformat_minor": 0,
  "metadata": {
    "colab": {
      "name": "DualGan tf1.ipynb",
      "provenance": [],
      "collapsed_sections": [],
      "authorship_tag": "ABX9TyMlLeg/ijSUWA7giVS86Ubl",
      "include_colab_link": true
    },
    "kernelspec": {
      "name": "python3",
      "display_name": "Python 3"
    },
    "accelerator": "GPU"
  },
  "cells": [
    {
      "cell_type": "markdown",
      "metadata": {
        "id": "view-in-github",
        "colab_type": "text"
      },
      "source": [
        "<a href=\"https://colab.research.google.com/github/Senpai1199/dualGAN/blob/master/DualGan%20tf1.ipynb\" target=\"_parent\"><img src=\"https://colab.research.google.com/assets/colab-badge.svg\" alt=\"Open In Colab\"/></a>"
      ]
    },
    {
      "cell_type": "code",
      "metadata": {
        "id": "DTfBa93No-1u"
      },
      "source": [
        "%tensorflow_version 1.x"
      ],
      "execution_count": 4,
      "outputs": []
    },
    {
      "cell_type": "code",
      "metadata": {
        "colab": {
          "base_uri": "https://localhost:8080/"
        },
        "id": "PWMw-IfZ6Tk_",
        "outputId": "35bad377-59df-4eaf-da52-3bfdf848eb81"
      },
      "source": [
        "import tensorflow\n",
        "print(tensorflow.__version__)"
      ],
      "execution_count": 5,
      "outputs": [
        {
          "output_type": "stream",
          "text": [
            "1.15.2\n"
          ],
          "name": "stdout"
        }
      ]
    },
    {
      "cell_type": "code",
      "metadata": {
        "colab": {
          "base_uri": "https://localhost:8080/"
        },
        "id": "7co7uNMI64fN",
        "outputId": "c0d6c57a-2b49-4535-a2ff-18c8f2a34c39"
      },
      "source": [
        "pip install scipy==1.1.0"
      ],
      "execution_count": 6,
      "outputs": [
        {
          "output_type": "stream",
          "text": [
            "Requirement already satisfied: scipy==1.1.0 in /usr/local/lib/python3.6/dist-packages (1.1.0)\n",
            "Requirement already satisfied: numpy>=1.8.2 in /usr/local/lib/python3.6/dist-packages (from scipy==1.1.0) (1.18.5)\n"
          ],
          "name": "stdout"
        }
      ]
    },
    {
      "cell_type": "code",
      "metadata": {
        "colab": {
          "base_uri": "https://localhost:8080/"
        },
        "id": "tUrpZ4DAV_XP",
        "outputId": "9e666138-d554-4961-f467-e9348f19ea33"
      },
      "source": [
        "import scipy\n",
        "print(scipy.__version__)\n",
        "\n",
        "import warnings\n",
        "warnings.filterwarnings(\"ignore\")"
      ],
      "execution_count": 10,
      "outputs": [
        {
          "output_type": "stream",
          "text": [
            "1.4.1\n"
          ],
          "name": "stdout"
        }
      ]
    },
    {
      "cell_type": "code",
      "metadata": {
        "id": "rUtGzJ5v668y"
      },
      "source": [
        "!unzip day-night.zip"
      ],
      "execution_count": null,
      "outputs": []
    },
    {
      "cell_type": "code",
      "metadata": {
        "colab": {
          "base_uri": "https://localhost:8080/"
        },
        "id": "xqOtx02H8wDN",
        "outputId": "f6d3ef03-49f4-44bb-f95e-08fb56092b6f"
      },
      "source": [
        "!pwd"
      ],
      "execution_count": 9,
      "outputs": [
        {
          "output_type": "stream",
          "text": [
            "/content\n"
          ],
          "name": "stdout"
        }
      ]
    },
    {
      "cell_type": "code",
      "metadata": {
        "colab": {
          "base_uri": "https://localhost:8080/"
        },
        "id": "HDskE1nU9Do1",
        "outputId": "a6e9a4c2-65a2-46c3-d0f9-8744c35b9798"
      },
      "source": [
        "!python tf1_dualgan.py"
      ],
      "execution_count": 36,
      "outputs": [
        {
          "output_type": "stream",
          "text": [
            "WARNING:tensorflow:From tf1_dualgan.py:12: The name tf.reset_default_graph is deprecated. Please use tf.compat.v1.reset_default_graph instead.\n",
            "\n",
            "WARNING:tensorflow:From tf1_dualgan.py:30: The name tf.placeholder is deprecated. Please use tf.compat.v1.placeholder instead.\n",
            "\n",
            "WARNING:tensorflow:From tf1_dualgan.py:63: The name tf.variable_scope is deprecated. Please use tf.compat.v1.variable_scope instead.\n",
            "\n",
            "WARNING:tensorflow:From tf1_dualgan.py:81: conv2d (from tensorflow.python.layers.convolutional) is deprecated and will be removed in a future version.\n",
            "Instructions for updating:\n",
            "Use `tf.keras.layers.Conv2D` instead.\n",
            "WARNING:tensorflow:From /tensorflow-1.15.2/python3.6/tensorflow_core/python/layers/convolutional.py:424: Layer.apply (from tensorflow.python.keras.engine.base_layer) is deprecated and will be removed in a future version.\n",
            "Instructions for updating:\n",
            "Please use `layer.__call__` method instead.\n",
            "WARNING:tensorflow:From tf1_dualgan.py:98: batch_normalization (from tensorflow.python.layers.normalization) is deprecated and will be removed in a future version.\n",
            "Instructions for updating:\n",
            "Use keras.layers.BatchNormalization instead.  In particular, `tf.control_dependencies(tf.GraphKeys.UPDATE_OPS)` should not be used (consult the `tf.keras.layers.batch_normalization` documentation).\n",
            "WARNING:tensorflow:From tf1_dualgan.py:117: conv2d_transpose (from tensorflow.python.layers.convolutional) is deprecated and will be removed in a future version.\n",
            "Instructions for updating:\n",
            "Use `tf.keras.layers.Conv2DTranspose` instead.\n",
            "WARNING:tensorflow:From tf1_dualgan.py:123: dropout (from tensorflow.python.layers.core) is deprecated and will be removed in a future version.\n",
            "Instructions for updating:\n",
            "Use keras.layers.dropout instead.\n",
            "WARNING:tensorflow:From /tensorflow-1.15.2/python3.6/tensorflow_core/python/ops/nn_impl.py:183: where (from tensorflow.python.ops.array_ops) is deprecated and will be removed in a future version.\n",
            "Instructions for updating:\n",
            "Use tf.where in 2.0, which has the same broadcast rule as np.where\n",
            "WARNING:tensorflow:From tf1_dualgan.py:207: The name tf.trainable_variables is deprecated. Please use tf.compat.v1.trainable_variables instead.\n",
            "\n",
            "32\n",
            "120\n",
            "WARNING:tensorflow:From tf1_dualgan.py:215: The name tf.train.RMSPropOptimizer is deprecated. Please use tf.compat.v1.train.RMSPropOptimizer instead.\n",
            "\n",
            "WARNING:tensorflow:From /tensorflow-1.15.2/python3.6/tensorflow_core/python/training/rmsprop.py:119: calling Ones.__init__ (from tensorflow.python.ops.init_ops) with dtype is deprecated and will be removed in a future version.\n",
            "Instructions for updating:\n",
            "Call initializer instance with the dtype argument instead of passing it to the constructor\n",
            "------------------------------\n",
            "Training\n",
            "WARNING:tensorflow:From tf1_dualgan.py:225: The name tf.train.Saver is deprecated. Please use tf.compat.v1.train.Saver instead.\n",
            "\n",
            "WARNING:tensorflow:From tf1_dualgan.py:227: The name tf.Session is deprecated. Please use tf.compat.v1.Session instead.\n",
            "\n",
            "2020-11-24 14:42:33.125891: I tensorflow/stream_executor/platform/default/dso_loader.cc:44] Successfully opened dynamic library libcuda.so.1\n",
            "2020-11-24 14:42:33.174573: I tensorflow/stream_executor/cuda/cuda_gpu_executor.cc:983] successful NUMA node read from SysFS had negative value (-1), but there must be at least one NUMA node, so returning NUMA node zero\n",
            "2020-11-24 14:42:33.175434: I tensorflow/core/common_runtime/gpu/gpu_device.cc:1639] Found device 0 with properties: \n",
            "name: Tesla T4 major: 7 minor: 5 memoryClockRate(GHz): 1.59\n",
            "pciBusID: 0000:00:04.0\n",
            "2020-11-24 14:42:33.180960: I tensorflow/stream_executor/platform/default/dso_loader.cc:44] Successfully opened dynamic library libcudart.so.10.1\n",
            "2020-11-24 14:42:33.195569: I tensorflow/stream_executor/platform/default/dso_loader.cc:44] Successfully opened dynamic library libcublas.so.10\n",
            "2020-11-24 14:42:33.201809: I tensorflow/stream_executor/platform/default/dso_loader.cc:44] Successfully opened dynamic library libcufft.so.10\n",
            "2020-11-24 14:42:33.209402: I tensorflow/stream_executor/platform/default/dso_loader.cc:44] Successfully opened dynamic library libcurand.so.10\n",
            "2020-11-24 14:42:33.221361: I tensorflow/stream_executor/platform/default/dso_loader.cc:44] Successfully opened dynamic library libcusolver.so.10\n",
            "2020-11-24 14:42:33.231773: I tensorflow/stream_executor/platform/default/dso_loader.cc:44] Successfully opened dynamic library libcusparse.so.10\n",
            "2020-11-24 14:42:33.249500: I tensorflow/stream_executor/platform/default/dso_loader.cc:44] Successfully opened dynamic library libcudnn.so.7\n",
            "2020-11-24 14:42:33.249636: I tensorflow/stream_executor/cuda/cuda_gpu_executor.cc:983] successful NUMA node read from SysFS had negative value (-1), but there must be at least one NUMA node, so returning NUMA node zero\n",
            "2020-11-24 14:42:33.250261: I tensorflow/stream_executor/cuda/cuda_gpu_executor.cc:983] successful NUMA node read from SysFS had negative value (-1), but there must be at least one NUMA node, so returning NUMA node zero\n",
            "2020-11-24 14:42:33.250859: I tensorflow/core/common_runtime/gpu/gpu_device.cc:1767] Adding visible gpu devices: 0\n",
            "2020-11-24 14:42:33.256705: I tensorflow/core/platform/profile_utils/cpu_utils.cc:94] CPU Frequency: 2200000000 Hz\n",
            "2020-11-24 14:42:33.256995: I tensorflow/compiler/xla/service/service.cc:168] XLA service 0x1ef8680 initialized for platform Host (this does not guarantee that XLA will be used). Devices:\n",
            "2020-11-24 14:42:33.257026: I tensorflow/compiler/xla/service/service.cc:176]   StreamExecutor device (0): Host, Default Version\n",
            "2020-11-24 14:42:33.371689: I tensorflow/stream_executor/cuda/cuda_gpu_executor.cc:983] successful NUMA node read from SysFS had negative value (-1), but there must be at least one NUMA node, so returning NUMA node zero\n",
            "2020-11-24 14:42:33.372747: I tensorflow/compiler/xla/service/service.cc:168] XLA service 0x1ef8bc0 initialized for platform CUDA (this does not guarantee that XLA will be used). Devices:\n",
            "2020-11-24 14:42:33.372783: I tensorflow/compiler/xla/service/service.cc:176]   StreamExecutor device (0): Tesla T4, Compute Capability 7.5\n",
            "2020-11-24 14:42:33.373884: I tensorflow/stream_executor/cuda/cuda_gpu_executor.cc:983] successful NUMA node read from SysFS had negative value (-1), but there must be at least one NUMA node, so returning NUMA node zero\n",
            "2020-11-24 14:42:33.374762: I tensorflow/core/common_runtime/gpu/gpu_device.cc:1639] Found device 0 with properties: \n",
            "name: Tesla T4 major: 7 minor: 5 memoryClockRate(GHz): 1.59\n",
            "pciBusID: 0000:00:04.0\n",
            "2020-11-24 14:42:33.374856: I tensorflow/stream_executor/platform/default/dso_loader.cc:44] Successfully opened dynamic library libcudart.so.10.1\n",
            "2020-11-24 14:42:33.374890: I tensorflow/stream_executor/platform/default/dso_loader.cc:44] Successfully opened dynamic library libcublas.so.10\n",
            "2020-11-24 14:42:33.374914: I tensorflow/stream_executor/platform/default/dso_loader.cc:44] Successfully opened dynamic library libcufft.so.10\n",
            "2020-11-24 14:42:33.374937: I tensorflow/stream_executor/platform/default/dso_loader.cc:44] Successfully opened dynamic library libcurand.so.10\n",
            "2020-11-24 14:42:33.374957: I tensorflow/stream_executor/platform/default/dso_loader.cc:44] Successfully opened dynamic library libcusolver.so.10\n",
            "2020-11-24 14:42:33.374977: I tensorflow/stream_executor/platform/default/dso_loader.cc:44] Successfully opened dynamic library libcusparse.so.10\n",
            "2020-11-24 14:42:33.374998: I tensorflow/stream_executor/platform/default/dso_loader.cc:44] Successfully opened dynamic library libcudnn.so.7\n",
            "2020-11-24 14:42:33.375081: I tensorflow/stream_executor/cuda/cuda_gpu_executor.cc:983] successful NUMA node read from SysFS had negative value (-1), but there must be at least one NUMA node, so returning NUMA node zero\n",
            "2020-11-24 14:42:33.375714: I tensorflow/stream_executor/cuda/cuda_gpu_executor.cc:983] successful NUMA node read from SysFS had negative value (-1), but there must be at least one NUMA node, so returning NUMA node zero\n",
            "2020-11-24 14:42:33.376260: I tensorflow/core/common_runtime/gpu/gpu_device.cc:1767] Adding visible gpu devices: 0\n",
            "2020-11-24 14:42:33.376358: I tensorflow/stream_executor/platform/default/dso_loader.cc:44] Successfully opened dynamic library libcudart.so.10.1\n",
            "2020-11-24 14:42:33.377679: I tensorflow/core/common_runtime/gpu/gpu_device.cc:1180] Device interconnect StreamExecutor with strength 1 edge matrix:\n",
            "2020-11-24 14:42:33.377708: I tensorflow/core/common_runtime/gpu/gpu_device.cc:1186]      0 \n",
            "2020-11-24 14:42:33.377719: I tensorflow/core/common_runtime/gpu/gpu_device.cc:1199] 0:   N \n",
            "2020-11-24 14:42:33.377840: I tensorflow/stream_executor/cuda/cuda_gpu_executor.cc:983] successful NUMA node read from SysFS had negative value (-1), but there must be at least one NUMA node, so returning NUMA node zero\n",
            "2020-11-24 14:42:33.378466: I tensorflow/stream_executor/cuda/cuda_gpu_executor.cc:983] successful NUMA node read from SysFS had negative value (-1), but there must be at least one NUMA node, so returning NUMA node zero\n",
            "2020-11-24 14:42:33.379035: W tensorflow/core/common_runtime/gpu/gpu_bfc_allocator.cc:39] Overriding allow_growth setting because the TF_FORCE_GPU_ALLOW_GROWTH environment variable is set. Original config value was 0.\n",
            "2020-11-24 14:42:33.379081: I tensorflow/core/common_runtime/gpu/gpu_device.cc:1325] Created TensorFlow device (/job:localhost/replica:0/task:0/device:GPU:0 with 14221 MB memory) -> physical GPU (device: 0, name: Tesla T4, pci bus id: 0000:00:04.0, compute capability: 7.5)\n",
            "WARNING:tensorflow:From tf1_dualgan.py:228: The name tf.global_variables_initializer is deprecated. Please use tf.compat.v1.global_variables_initializer instead.\n",
            "\n",
            "2020-11-24 14:42:41.596812: I tensorflow/stream_executor/platform/default/dso_loader.cc:44] Successfully opened dynamic library libcudnn.so.7\n",
            "2020-11-24 14:42:43.201200: I tensorflow/stream_executor/platform/default/dso_loader.cc:44] Successfully opened dynamic library libcublas.so.10\n",
            "Epoch 1/60... Discriminator Loss: 3.2803... Generator Loss: 19.2193 A-L1 Loss: 0.4165 B-L1 Loss: 0.4645\n",
            "==============================\n",
            "Epoch 2/60... Discriminator Loss: 3.1502... Generator Loss: 11.1945 A-L1 Loss: 0.1933 B-L1 Loss: 0.2922\n",
            "Epoch 2/60... Discriminator Loss: 2.9176... Generator Loss: 7.5072 A-L1 Loss: 0.1592 B-L1 Loss: 0.1388\n",
            "==============================\n",
            "Epoch 3/60... Discriminator Loss: 3.0086... Generator Loss: 6.5474 A-L1 Loss: 0.1391 B-L1 Loss: 0.1066\n",
            "==============================\n",
            "Epoch 4/60... Discriminator Loss: 2.8678... Generator Loss: 6.2296 A-L1 Loss: 0.1349 B-L1 Loss: 0.0940\n",
            "Epoch 4/60... Discriminator Loss: 2.9729... Generator Loss: 9.0038 A-L1 Loss: 0.1651 B-L1 Loss: 0.1969\n",
            "==============================\n",
            "Epoch 5/60... Discriminator Loss: 2.6566... Generator Loss: 5.3373 A-L1 Loss: 0.1152 B-L1 Loss: 0.0702\n",
            "==============================\n",
            "Epoch 6/60... Discriminator Loss: 2.5022... Generator Loss: 6.5715 A-L1 Loss: 0.1556 B-L1 Loss: 0.0922\n",
            "Epoch 6/60... Discriminator Loss: 2.7007... Generator Loss: 6.3006 A-L1 Loss: 0.1140 B-L1 Loss: 0.1163\n",
            "==============================\n",
            "Epoch 7/60... Discriminator Loss: 2.8155... Generator Loss: 5.7146 A-L1 Loss: 0.1185 B-L1 Loss: 0.0901\n",
            "==============================\n",
            "Epoch 8/60... Discriminator Loss: 2.6124... Generator Loss: 5.4917 A-L1 Loss: 0.1175 B-L1 Loss: 0.0760\n",
            "Epoch 8/60... Discriminator Loss: 2.0968... Generator Loss: 6.0690 A-L1 Loss: 0.1094 B-L1 Loss: 0.0992\n",
            "==============================\n",
            "Epoch 9/60... Discriminator Loss: 2.6852... Generator Loss: 5.8179 A-L1 Loss: 0.1192 B-L1 Loss: 0.0789\n",
            "==============================\n",
            "Epoch 10/60... Discriminator Loss: 2.3619... Generator Loss: 5.2906 A-L1 Loss: 0.0916 B-L1 Loss: 0.0938\n",
            "Epoch 10/60... Discriminator Loss: 2.5769... Generator Loss: 5.4763 A-L1 Loss: 0.1074 B-L1 Loss: 0.0796\n",
            "==============================\n",
            "Epoch 11/60... Discriminator Loss: 2.7142... Generator Loss: 5.0049 A-L1 Loss: 0.1093 B-L1 Loss: 0.0655\n",
            "==============================\n",
            "Epoch 12/60... Discriminator Loss: 2.6723... Generator Loss: 4.8395 A-L1 Loss: 0.0826 B-L1 Loss: 0.0767\n",
            "Epoch 12/60... Discriminator Loss: 2.6778... Generator Loss: 5.1869 A-L1 Loss: 0.0943 B-L1 Loss: 0.0931\n",
            "==============================\n",
            "Epoch 13/60... Discriminator Loss: 2.4714... Generator Loss: 6.0860 A-L1 Loss: 0.1127 B-L1 Loss: 0.1156\n",
            "==============================\n",
            "Epoch 14/60... Discriminator Loss: 2.5749... Generator Loss: 5.4996 A-L1 Loss: 0.0883 B-L1 Loss: 0.1025\n",
            "Epoch 14/60... Discriminator Loss: 2.6385... Generator Loss: 4.7892 A-L1 Loss: 0.0907 B-L1 Loss: 0.0669\n",
            "==============================\n",
            "Epoch 15/60... Discriminator Loss: 2.9131... Generator Loss: 4.6068 A-L1 Loss: 0.0928 B-L1 Loss: 0.0607\n",
            "==============================\n",
            "Epoch 16/60... Discriminator Loss: 2.2673... Generator Loss: 5.6883 A-L1 Loss: 0.1232 B-L1 Loss: 0.0733\n",
            "Epoch 16/60... Discriminator Loss: 2.6732... Generator Loss: 4.9360 A-L1 Loss: 0.0778 B-L1 Loss: 0.0873\n",
            "==============================\n",
            "Epoch 17/60... Discriminator Loss: 2.6766... Generator Loss: 4.8450 A-L1 Loss: 0.0962 B-L1 Loss: 0.0649\n",
            "==============================\n",
            "Epoch 18/60... Discriminator Loss: 2.6281... Generator Loss: 4.8152 A-L1 Loss: 0.1083 B-L1 Loss: 0.0617\n",
            "Epoch 18/60... Discriminator Loss: 2.7200... Generator Loss: 4.6172 A-L1 Loss: 0.0739 B-L1 Loss: 0.0821\n",
            "==============================\n",
            "Epoch 19/60... Discriminator Loss: 2.3508... Generator Loss: 5.0439 A-L1 Loss: 0.0946 B-L1 Loss: 0.0749\n",
            "==============================\n",
            "Epoch 20/60... Discriminator Loss: 2.1900... Generator Loss: 4.4610 A-L1 Loss: 0.0746 B-L1 Loss: 0.0556\n",
            "Epoch 20/60... Discriminator Loss: 2.1362... Generator Loss: 5.3995 A-L1 Loss: 0.1110 B-L1 Loss: 0.0664\n",
            "==============================\n",
            "Epoch 21/60... Discriminator Loss: 2.5728... Generator Loss: 4.5837 A-L1 Loss: 0.0809 B-L1 Loss: 0.0713\n",
            "==============================\n",
            "Epoch 22/60... Discriminator Loss: 2.4950... Generator Loss: 4.7412 A-L1 Loss: 0.0883 B-L1 Loss: 0.0679\n",
            "Epoch 22/60... Discriminator Loss: 2.4661... Generator Loss: 4.5650 A-L1 Loss: 0.1025 B-L1 Loss: 0.0399\n",
            "==============================\n",
            "Epoch 23/60... Discriminator Loss: 2.4669... Generator Loss: 5.1287 A-L1 Loss: 0.1045 B-L1 Loss: 0.0678\n",
            "==============================\n",
            "Epoch 24/60... Discriminator Loss: 2.4753... Generator Loss: 4.2195 A-L1 Loss: 0.0720 B-L1 Loss: 0.0508\n",
            "Epoch 24/60... Discriminator Loss: 2.9576... Generator Loss: 4.5935 A-L1 Loss: 0.0778 B-L1 Loss: 0.0729\n",
            "==============================\n",
            "Epoch 25/60... Discriminator Loss: 2.8268... Generator Loss: 4.5863 A-L1 Loss: 0.0846 B-L1 Loss: 0.0692\n",
            "==============================\n",
            "Epoch 26/60... Discriminator Loss: 2.0970... Generator Loss: 4.4226 A-L1 Loss: 0.0852 B-L1 Loss: 0.0447\n",
            "Epoch 26/60... Discriminator Loss: 2.9684... Generator Loss: 3.9304 A-L1 Loss: 0.0703 B-L1 Loss: 0.0654\n",
            "==============================\n",
            "Epoch 27/60... Discriminator Loss: 2.1495... Generator Loss: 4.7530 A-L1 Loss: 0.0783 B-L1 Loss: 0.0701\n",
            "==============================\n",
            "Epoch 28/60... Discriminator Loss: 2.5222... Generator Loss: 4.8459 A-L1 Loss: 0.0844 B-L1 Loss: 0.0687\n",
            "Epoch 28/60... Discriminator Loss: 2.1958... Generator Loss: 4.4032 A-L1 Loss: 0.0578 B-L1 Loss: 0.0756\n",
            "==============================\n",
            "Epoch 29/60... Discriminator Loss: 2.3079... Generator Loss: 4.2169 A-L1 Loss: 0.0617 B-L1 Loss: 0.0647\n",
            "==============================\n",
            "Epoch 30/60... Discriminator Loss: 2.2827... Generator Loss: 4.2331 A-L1 Loss: 0.0720 B-L1 Loss: 0.0499\n",
            "Epoch 30/60... Discriminator Loss: 2.0129... Generator Loss: 4.9112 A-L1 Loss: 0.0860 B-L1 Loss: 0.0613\n",
            "==============================\n",
            "Epoch 31/60... Discriminator Loss: 2.1787... Generator Loss: 4.0784 A-L1 Loss: 0.0637 B-L1 Loss: 0.0578\n",
            "==============================\n",
            "Epoch 32/60... Discriminator Loss: 2.5060... Generator Loss: 4.7754 A-L1 Loss: 0.0846 B-L1 Loss: 0.0660\n",
            "Epoch 32/60... Discriminator Loss: 2.4812... Generator Loss: 4.1727 A-L1 Loss: 0.0771 B-L1 Loss: 0.0480\n",
            "==============================\n",
            "Epoch 33/60... Discriminator Loss: 2.3753... Generator Loss: 4.6627 A-L1 Loss: 0.0953 B-L1 Loss: 0.0536\n",
            "==============================\n",
            "Epoch 34/60... Discriminator Loss: 2.1832... Generator Loss: 4.8795 A-L1 Loss: 0.0733 B-L1 Loss: 0.0766\n",
            "Epoch 34/60... Discriminator Loss: 2.2457... Generator Loss: 3.5355 A-L1 Loss: 0.0492 B-L1 Loss: 0.0459\n",
            "==============================\n",
            "Epoch 35/60... Discriminator Loss: 2.4154... Generator Loss: 4.0928 A-L1 Loss: 0.0757 B-L1 Loss: 0.0427\n",
            "==============================\n",
            "Epoch 36/60... Discriminator Loss: 2.1396... Generator Loss: 4.4392 A-L1 Loss: 0.0685 B-L1 Loss: 0.0590\n",
            "Epoch 36/60... Discriminator Loss: 2.4059... Generator Loss: 4.3445 A-L1 Loss: 0.0600 B-L1 Loss: 0.0665\n",
            "==============================\n",
            "Epoch 37/60... Discriminator Loss: 2.6370... Generator Loss: 3.5568 A-L1 Loss: 0.0695 B-L1 Loss: 0.0386\n",
            "==============================\n",
            "Epoch 38/60... Discriminator Loss: 2.6313... Generator Loss: 4.3856 A-L1 Loss: 0.0710 B-L1 Loss: 0.0631\n",
            "Epoch 38/60... Discriminator Loss: 2.2446... Generator Loss: 4.2095 A-L1 Loss: 0.0698 B-L1 Loss: 0.0517\n",
            "==============================\n",
            "Epoch 39/60... Discriminator Loss: 2.5089... Generator Loss: 4.2978 A-L1 Loss: 0.0869 B-L1 Loss: 0.0502\n",
            "==============================\n",
            "Epoch 40/60... Discriminator Loss: 2.2079... Generator Loss: 4.1654 A-L1 Loss: 0.0721 B-L1 Loss: 0.0524\n",
            "Epoch 40/60... Discriminator Loss: 2.4925... Generator Loss: 4.2470 A-L1 Loss: 0.0805 B-L1 Loss: 0.0497\n",
            "==============================\n",
            "Epoch 41/60... Discriminator Loss: 2.0479... Generator Loss: 4.2007 A-L1 Loss: 0.0677 B-L1 Loss: 0.0527\n",
            "==============================\n",
            "Epoch 42/60... Discriminator Loss: 2.0657... Generator Loss: 4.8586 A-L1 Loss: 0.0594 B-L1 Loss: 0.0929\n",
            "Epoch 42/60... Discriminator Loss: 2.4630... Generator Loss: 5.0309 A-L1 Loss: 0.0784 B-L1 Loss: 0.0822\n",
            "==============================\n",
            "Epoch 43/60... Discriminator Loss: 2.4892... Generator Loss: 3.5479 A-L1 Loss: 0.0494 B-L1 Loss: 0.0506\n",
            "==============================\n",
            "Epoch 44/60... Discriminator Loss: 1.8406... Generator Loss: 4.3466 A-L1 Loss: 0.0577 B-L1 Loss: 0.0530\n",
            "Epoch 44/60... Discriminator Loss: 1.8164... Generator Loss: 4.4795 A-L1 Loss: 0.0715 B-L1 Loss: 0.0463\n",
            "==============================\n",
            "Epoch 45/60... Discriminator Loss: 2.2017... Generator Loss: 4.1354 A-L1 Loss: 0.0599 B-L1 Loss: 0.0574\n",
            "==============================\n",
            "Epoch 46/60... Discriminator Loss: 2.4075... Generator Loss: 4.4703 A-L1 Loss: 0.0866 B-L1 Loss: 0.0546\n",
            "Epoch 46/60... Discriminator Loss: 2.5657... Generator Loss: 4.3733 A-L1 Loss: 0.0813 B-L1 Loss: 0.0554\n",
            "==============================\n",
            "Epoch 47/60... Discriminator Loss: 2.0825... Generator Loss: 4.2596 A-L1 Loss: 0.0853 B-L1 Loss: 0.0314\n",
            "==============================\n",
            "Epoch 48/60... Discriminator Loss: 1.9866... Generator Loss: 3.6567 A-L1 Loss: 0.0487 B-L1 Loss: 0.0431\n",
            "Epoch 48/60... Discriminator Loss: 2.6749... Generator Loss: 3.7875 A-L1 Loss: 0.0606 B-L1 Loss: 0.0610\n",
            "==============================\n",
            "Epoch 49/60... Discriminator Loss: 1.9811... Generator Loss: 3.8658 A-L1 Loss: 0.0472 B-L1 Loss: 0.0497\n",
            "==============================\n",
            "Epoch 50/60... Discriminator Loss: 2.3885... Generator Loss: 4.5317 A-L1 Loss: 0.0734 B-L1 Loss: 0.0643\n",
            "Epoch 50/60... Discriminator Loss: 2.1357... Generator Loss: 4.1765 A-L1 Loss: 0.0629 B-L1 Loss: 0.0546\n",
            "==============================\n",
            "Epoch 51/60... Discriminator Loss: 2.7314... Generator Loss: 4.1956 A-L1 Loss: 0.0819 B-L1 Loss: 0.0509\n",
            "==============================\n",
            "Epoch 52/60... Discriminator Loss: 2.5426... Generator Loss: 3.6648 A-L1 Loss: 0.0596 B-L1 Loss: 0.0431\n",
            "Epoch 52/60... Discriminator Loss: 1.6916... Generator Loss: 5.2400 A-L1 Loss: 0.0749 B-L1 Loss: 0.0811\n",
            "==============================\n",
            "Epoch 53/60... Discriminator Loss: 2.5910... Generator Loss: 3.6930 A-L1 Loss: 0.0494 B-L1 Loss: 0.0542\n",
            "==============================\n",
            "Epoch 54/60... Discriminator Loss: 2.5693... Generator Loss: 3.3600 A-L1 Loss: 0.0523 B-L1 Loss: 0.0426\n",
            "Epoch 54/60... Discriminator Loss: 2.1198... Generator Loss: 4.2834 A-L1 Loss: 0.0552 B-L1 Loss: 0.0705\n",
            "==============================\n",
            "Epoch 55/60... Discriminator Loss: 2.0389... Generator Loss: 4.1240 A-L1 Loss: 0.0525 B-L1 Loss: 0.0635\n",
            "==============================\n",
            "Epoch 56/60... Discriminator Loss: 2.2789... Generator Loss: 4.3505 A-L1 Loss: 0.0644 B-L1 Loss: 0.0634\n",
            "Epoch 56/60... Discriminator Loss: 2.0502... Generator Loss: 4.3435 A-L1 Loss: 0.0637 B-L1 Loss: 0.0541\n",
            "==============================\n",
            "Epoch 57/60... Discriminator Loss: 2.5796... Generator Loss: 4.0503 A-L1 Loss: 0.0612 B-L1 Loss: 0.0570\n",
            "==============================\n",
            "Epoch 58/60... Discriminator Loss: 2.6083... Generator Loss: 4.4120 A-L1 Loss: 0.0649 B-L1 Loss: 0.0698\n",
            "Epoch 58/60... Discriminator Loss: 2.4846... Generator Loss: 3.7457 A-L1 Loss: 0.0630 B-L1 Loss: 0.0385\n",
            "==============================\n",
            "Epoch 59/60... Discriminator Loss: 2.2647... Generator Loss: 4.2794 A-L1 Loss: 0.0598 B-L1 Loss: 0.0625\n",
            "==============================\n",
            "Epoch 60/60... Discriminator Loss: 2.0942... Generator Loss: 4.1610 A-L1 Loss: 0.0678 B-L1 Loss: 0.0427\n",
            "Epoch 60/60... Discriminator Loss: 2.1956... Generator Loss: 3.9434 A-L1 Loss: 0.0685 B-L1 Loss: 0.0387\n",
            "==============================\n",
            "[Training]: Data: day-night, Epochs: 60.000000, Batch_size:  2, Elapsed time: 3685.134660\n",
            "\n",
            "32\n",
            "120\n",
            "------------------------------\n",
            "Validation\n",
            "2020-11-24 15:44:04.438524: I tensorflow/stream_executor/cuda/cuda_gpu_executor.cc:983] successful NUMA node read from SysFS had negative value (-1), but there must be at least one NUMA node, so returning NUMA node zero\n",
            "2020-11-24 15:44:04.438842: I tensorflow/core/common_runtime/gpu/gpu_device.cc:1639] Found device 0 with properties: \n",
            "name: Tesla T4 major: 7 minor: 5 memoryClockRate(GHz): 1.59\n",
            "pciBusID: 0000:00:04.0\n",
            "2020-11-24 15:44:04.438914: I tensorflow/stream_executor/platform/default/dso_loader.cc:44] Successfully opened dynamic library libcudart.so.10.1\n",
            "2020-11-24 15:44:04.438936: I tensorflow/stream_executor/platform/default/dso_loader.cc:44] Successfully opened dynamic library libcublas.so.10\n",
            "2020-11-24 15:44:04.438959: I tensorflow/stream_executor/platform/default/dso_loader.cc:44] Successfully opened dynamic library libcufft.so.10\n",
            "2020-11-24 15:44:04.438978: I tensorflow/stream_executor/platform/default/dso_loader.cc:44] Successfully opened dynamic library libcurand.so.10\n",
            "2020-11-24 15:44:04.438996: I tensorflow/stream_executor/platform/default/dso_loader.cc:44] Successfully opened dynamic library libcusolver.so.10\n",
            "2020-11-24 15:44:04.439013: I tensorflow/stream_executor/platform/default/dso_loader.cc:44] Successfully opened dynamic library libcusparse.so.10\n",
            "2020-11-24 15:44:04.439031: I tensorflow/stream_executor/platform/default/dso_loader.cc:44] Successfully opened dynamic library libcudnn.so.7\n",
            "2020-11-24 15:44:04.439111: I tensorflow/stream_executor/cuda/cuda_gpu_executor.cc:983] successful NUMA node read from SysFS had negative value (-1), but there must be at least one NUMA node, so returning NUMA node zero\n",
            "2020-11-24 15:44:04.439506: I tensorflow/stream_executor/cuda/cuda_gpu_executor.cc:983] successful NUMA node read from SysFS had negative value (-1), but there must be at least one NUMA node, so returning NUMA node zero\n",
            "2020-11-24 15:44:04.439747: I tensorflow/core/common_runtime/gpu/gpu_device.cc:1767] Adding visible gpu devices: 0\n",
            "2020-11-24 15:44:04.439832: I tensorflow/core/common_runtime/gpu/gpu_device.cc:1180] Device interconnect StreamExecutor with strength 1 edge matrix:\n",
            "2020-11-24 15:44:04.439848: I tensorflow/core/common_runtime/gpu/gpu_device.cc:1186]      0 \n",
            "2020-11-24 15:44:04.439857: I tensorflow/core/common_runtime/gpu/gpu_device.cc:1199] 0:   N \n",
            "2020-11-24 15:44:04.439948: I tensorflow/stream_executor/cuda/cuda_gpu_executor.cc:983] successful NUMA node read from SysFS had negative value (-1), but there must be at least one NUMA node, so returning NUMA node zero\n",
            "2020-11-24 15:44:04.440227: I tensorflow/stream_executor/cuda/cuda_gpu_executor.cc:983] successful NUMA node read from SysFS had negative value (-1), but there must be at least one NUMA node, so returning NUMA node zero\n",
            "2020-11-24 15:44:04.440475: I tensorflow/core/common_runtime/gpu/gpu_device.cc:1325] Created TensorFlow device (/job:localhost/replica:0/task:0/device:GPU:0 with 14221 MB memory) -> physical GPU (device: 0, name: Tesla T4, pci bus id: 0000:00:04.0, compute capability: 7.5)\n"
          ],
          "name": "stdout"
        }
      ]
    },
    {
      "cell_type": "code",
      "metadata": {
        "id": "Tg48lidyq6TR"
      },
      "source": [
        ""
      ],
      "execution_count": null,
      "outputs": []
    }
  ]
}
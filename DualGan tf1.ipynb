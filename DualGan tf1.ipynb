{
  "nbformat": 4,
  "nbformat_minor": 0,
  "metadata": {
    "colab": {
      "name": "DualGan tf1.ipynb",
      "provenance": [],
      "collapsed_sections": [],
      "authorship_tag": "ABX9TyMEDHspsqCyjmp/TfLcZduA",
      "include_colab_link": true
    },
    "kernelspec": {
      "name": "python3",
      "display_name": "Python 3"
    },
    "accelerator": "GPU"
  },
  "cells": [
    {
      "cell_type": "markdown",
      "metadata": {
        "id": "view-in-github",
        "colab_type": "text"
      },
      "source": [
        "<a href=\"https://colab.research.google.com/github/Senpai1199/dualGAN/blob/master/DualGan%20tf1.ipynb\" target=\"_parent\"><img src=\"https://colab.research.google.com/assets/colab-badge.svg\" alt=\"Open In Colab\"/></a>"
      ]
    },
    {
      "cell_type": "code",
      "metadata": {
        "id": "DTfBa93No-1u",
        "colab": {
          "base_uri": "https://localhost:8080/"
        },
        "outputId": "03770163-eb2d-47ad-9b66-b7e5d1cc1697"
      },
      "source": [
        "%tensorflow_version 1.x"
      ],
      "execution_count": null,
      "outputs": [
        {
          "output_type": "stream",
          "text": [
            "TensorFlow 1.x selected.\n"
          ],
          "name": "stdout"
        }
      ]
    },
    {
      "cell_type": "code",
      "metadata": {
        "colab": {
          "base_uri": "https://localhost:8080/"
        },
        "id": "PWMw-IfZ6Tk_",
        "outputId": "16da56cc-089f-436d-e049-b3e954f0ec90"
      },
      "source": [
        "import tensorflow\n",
        "print(tensorflow.__version__)"
      ],
      "execution_count": null,
      "outputs": [
        {
          "output_type": "stream",
          "text": [
            "1.15.2\n"
          ],
          "name": "stdout"
        }
      ]
    },
    {
      "cell_type": "code",
      "metadata": {
        "colab": {
          "base_uri": "https://localhost:8080/"
        },
        "id": "7co7uNMI64fN",
        "outputId": "44a6c27f-85a5-4b5f-ec12-59929238014d"
      },
      "source": [
        "pip install scipy==1.1.0"
      ],
      "execution_count": null,
      "outputs": [
        {
          "output_type": "stream",
          "text": [
            "Requirement already satisfied: scipy==1.1.0 in /usr/local/lib/python3.6/dist-packages (1.1.0)\n",
            "Requirement already satisfied: numpy>=1.8.2 in /usr/local/lib/python3.6/dist-packages (from scipy==1.1.0) (1.18.5)\n"
          ],
          "name": "stdout"
        }
      ]
    },
    {
      "cell_type": "code",
      "metadata": {
        "id": "rUtGzJ5v668y"
      },
      "source": [
        "!unzip day-night.zip"
      ],
      "execution_count": null,
      "outputs": []
    },
    {
      "cell_type": "code",
      "metadata": {
        "colab": {
          "base_uri": "https://localhost:8080/"
        },
        "id": "xqOtx02H8wDN",
        "outputId": "da394916-bd98-4760-ef9d-bba14be81852"
      },
      "source": [
        "!pwd"
      ],
      "execution_count": null,
      "outputs": [
        {
          "output_type": "stream",
          "text": [
            "/content\n"
          ],
          "name": "stdout"
        }
      ]
    },
    {
      "cell_type": "code",
      "metadata": {
        "colab": {
          "base_uri": "https://localhost:8080/"
        },
        "id": "HDskE1nU9Do1",
        "outputId": "ad1e16a0-4864-4f80-ce10-92187dc61d94"
      },
      "source": [
        "!python tf1_dualgan.py"
      ],
      "execution_count": null,
      "outputs": [
        {
          "output_type": "stream",
          "text": [
            "WARNING:tensorflow:From tf1_dualgan.py:11: The name tf.reset_default_graph is deprecated. Please use tf.compat.v1.reset_default_graph instead.\n",
            "\n",
            "WARNING:tensorflow:From tf1_dualgan.py:29: The name tf.placeholder is deprecated. Please use tf.compat.v1.placeholder instead.\n",
            "\n",
            "WARNING:tensorflow:From tf1_dualgan.py:62: The name tf.variable_scope is deprecated. Please use tf.compat.v1.variable_scope instead.\n",
            "\n",
            "WARNING:tensorflow:From tf1_dualgan.py:80: conv2d (from tensorflow.python.layers.convolutional) is deprecated and will be removed in a future version.\n",
            "Instructions for updating:\n",
            "Use `tf.keras.layers.Conv2D` instead.\n",
            "WARNING:tensorflow:From /tensorflow-1.15.2/python3.6/tensorflow_core/python/layers/convolutional.py:424: Layer.apply (from tensorflow.python.keras.engine.base_layer) is deprecated and will be removed in a future version.\n",
            "Instructions for updating:\n",
            "Please use `layer.__call__` method instead.\n",
            "WARNING:tensorflow:From tf1_dualgan.py:97: batch_normalization (from tensorflow.python.layers.normalization) is deprecated and will be removed in a future version.\n",
            "Instructions for updating:\n",
            "Use keras.layers.BatchNormalization instead.  In particular, `tf.control_dependencies(tf.GraphKeys.UPDATE_OPS)` should not be used (consult the `tf.keras.layers.batch_normalization` documentation).\n",
            "WARNING:tensorflow:From tf1_dualgan.py:116: conv2d_transpose (from tensorflow.python.layers.convolutional) is deprecated and will be removed in a future version.\n",
            "Instructions for updating:\n",
            "Use `tf.keras.layers.Conv2DTranspose` instead.\n",
            "WARNING:tensorflow:From tf1_dualgan.py:122: dropout (from tensorflow.python.layers.core) is deprecated and will be removed in a future version.\n",
            "Instructions for updating:\n",
            "Use keras.layers.dropout instead.\n",
            "WARNING:tensorflow:From /tensorflow-1.15.2/python3.6/tensorflow_core/python/ops/nn_impl.py:183: where (from tensorflow.python.ops.array_ops) is deprecated and will be removed in a future version.\n",
            "Instructions for updating:\n",
            "Use tf.where in 2.0, which has the same broadcast rule as np.where\n",
            "WARNING:tensorflow:From tf1_dualgan.py:206: The name tf.trainable_variables is deprecated. Please use tf.compat.v1.trainable_variables instead.\n",
            "\n",
            "32\n",
            "120\n",
            "WARNING:tensorflow:From tf1_dualgan.py:214: The name tf.train.RMSPropOptimizer is deprecated. Please use tf.compat.v1.train.RMSPropOptimizer instead.\n",
            "\n",
            "WARNING:tensorflow:From /tensorflow-1.15.2/python3.6/tensorflow_core/python/training/rmsprop.py:119: calling Ones.__init__ (from tensorflow.python.ops.init_ops) with dtype is deprecated and will be removed in a future version.\n",
            "Instructions for updating:\n",
            "Call initializer instance with the dtype argument instead of passing it to the constructor\n",
            "WARNING:tensorflow:From tf1_dualgan.py:223: The name tf.train.Saver is deprecated. Please use tf.compat.v1.train.Saver instead.\n",
            "\n",
            "WARNING:tensorflow:From tf1_dualgan.py:225: The name tf.Session is deprecated. Please use tf.compat.v1.Session instead.\n",
            "\n",
            "2020-11-23 16:33:30.196448: I tensorflow/stream_executor/platform/default/dso_loader.cc:44] Successfully opened dynamic library libcuda.so.1\n",
            "2020-11-23 16:33:30.253074: I tensorflow/stream_executor/cuda/cuda_gpu_executor.cc:983] successful NUMA node read from SysFS had negative value (-1), but there must be at least one NUMA node, so returning NUMA node zero\n",
            "2020-11-23 16:33:30.253635: I tensorflow/core/common_runtime/gpu/gpu_device.cc:1639] Found device 0 with properties: \n",
            "name: Tesla T4 major: 7 minor: 5 memoryClockRate(GHz): 1.59\n",
            "pciBusID: 0000:00:04.0\n",
            "2020-11-23 16:33:30.253964: I tensorflow/stream_executor/platform/default/dso_loader.cc:44] Successfully opened dynamic library libcudart.so.10.1\n",
            "2020-11-23 16:33:30.454552: I tensorflow/stream_executor/platform/default/dso_loader.cc:44] Successfully opened dynamic library libcublas.so.10\n",
            "2020-11-23 16:33:30.600657: I tensorflow/stream_executor/platform/default/dso_loader.cc:44] Successfully opened dynamic library libcufft.so.10\n",
            "2020-11-23 16:33:30.615337: I tensorflow/stream_executor/platform/default/dso_loader.cc:44] Successfully opened dynamic library libcurand.so.10\n",
            "2020-11-23 16:33:30.902083: I tensorflow/stream_executor/platform/default/dso_loader.cc:44] Successfully opened dynamic library libcusolver.so.10\n",
            "2020-11-23 16:33:30.926525: I tensorflow/stream_executor/platform/default/dso_loader.cc:44] Successfully opened dynamic library libcusparse.so.10\n",
            "2020-11-23 16:33:31.453648: I tensorflow/stream_executor/platform/default/dso_loader.cc:44] Successfully opened dynamic library libcudnn.so.7\n",
            "2020-11-23 16:33:31.453819: I tensorflow/stream_executor/cuda/cuda_gpu_executor.cc:983] successful NUMA node read from SysFS had negative value (-1), but there must be at least one NUMA node, so returning NUMA node zero\n",
            "2020-11-23 16:33:31.454512: I tensorflow/stream_executor/cuda/cuda_gpu_executor.cc:983] successful NUMA node read from SysFS had negative value (-1), but there must be at least one NUMA node, so returning NUMA node zero\n",
            "2020-11-23 16:33:31.455016: I tensorflow/core/common_runtime/gpu/gpu_device.cc:1767] Adding visible gpu devices: 0\n",
            "2020-11-23 16:33:31.511615: I tensorflow/core/platform/profile_utils/cpu_utils.cc:94] CPU Frequency: 2200000000 Hz\n",
            "2020-11-23 16:33:31.511833: I tensorflow/compiler/xla/service/service.cc:168] XLA service 0x22c0d80 initialized for platform Host (this does not guarantee that XLA will be used). Devices:\n",
            "2020-11-23 16:33:31.511876: I tensorflow/compiler/xla/service/service.cc:176]   StreamExecutor device (0): Host, Default Version\n",
            "2020-11-23 16:33:31.646114: I tensorflow/stream_executor/cuda/cuda_gpu_executor.cc:983] successful NUMA node read from SysFS had negative value (-1), but there must be at least one NUMA node, so returning NUMA node zero\n",
            "2020-11-23 16:33:31.646798: I tensorflow/compiler/xla/service/service.cc:168] XLA service 0x22c0f40 initialized for platform CUDA (this does not guarantee that XLA will be used). Devices:\n",
            "2020-11-23 16:33:31.646831: I tensorflow/compiler/xla/service/service.cc:176]   StreamExecutor device (0): Tesla T4, Compute Capability 7.5\n",
            "2020-11-23 16:33:31.648010: I tensorflow/stream_executor/cuda/cuda_gpu_executor.cc:983] successful NUMA node read from SysFS had negative value (-1), but there must be at least one NUMA node, so returning NUMA node zero\n",
            "2020-11-23 16:33:31.648567: I tensorflow/core/common_runtime/gpu/gpu_device.cc:1639] Found device 0 with properties: \n",
            "name: Tesla T4 major: 7 minor: 5 memoryClockRate(GHz): 1.59\n",
            "pciBusID: 0000:00:04.0\n",
            "2020-11-23 16:33:31.648627: I tensorflow/stream_executor/platform/default/dso_loader.cc:44] Successfully opened dynamic library libcudart.so.10.1\n",
            "2020-11-23 16:33:31.648652: I tensorflow/stream_executor/platform/default/dso_loader.cc:44] Successfully opened dynamic library libcublas.so.10\n",
            "2020-11-23 16:33:31.648673: I tensorflow/stream_executor/platform/default/dso_loader.cc:44] Successfully opened dynamic library libcufft.so.10\n",
            "2020-11-23 16:33:31.648695: I tensorflow/stream_executor/platform/default/dso_loader.cc:44] Successfully opened dynamic library libcurand.so.10\n",
            "2020-11-23 16:33:31.648716: I tensorflow/stream_executor/platform/default/dso_loader.cc:44] Successfully opened dynamic library libcusolver.so.10\n",
            "2020-11-23 16:33:31.648736: I tensorflow/stream_executor/platform/default/dso_loader.cc:44] Successfully opened dynamic library libcusparse.so.10\n",
            "2020-11-23 16:33:31.648759: I tensorflow/stream_executor/platform/default/dso_loader.cc:44] Successfully opened dynamic library libcudnn.so.7\n",
            "2020-11-23 16:33:31.648832: I tensorflow/stream_executor/cuda/cuda_gpu_executor.cc:983] successful NUMA node read from SysFS had negative value (-1), but there must be at least one NUMA node, so returning NUMA node zero\n",
            "2020-11-23 16:33:31.649399: I tensorflow/stream_executor/cuda/cuda_gpu_executor.cc:983] successful NUMA node read from SysFS had negative value (-1), but there must be at least one NUMA node, so returning NUMA node zero\n",
            "2020-11-23 16:33:31.649877: I tensorflow/core/common_runtime/gpu/gpu_device.cc:1767] Adding visible gpu devices: 0\n",
            "2020-11-23 16:33:31.653103: I tensorflow/stream_executor/platform/default/dso_loader.cc:44] Successfully opened dynamic library libcudart.so.10.1\n",
            "2020-11-23 16:33:31.654286: I tensorflow/core/common_runtime/gpu/gpu_device.cc:1180] Device interconnect StreamExecutor with strength 1 edge matrix:\n",
            "2020-11-23 16:33:31.654319: I tensorflow/core/common_runtime/gpu/gpu_device.cc:1186]      0 \n",
            "2020-11-23 16:33:31.654342: I tensorflow/core/common_runtime/gpu/gpu_device.cc:1199] 0:   N \n",
            "2020-11-23 16:33:31.655287: I tensorflow/stream_executor/cuda/cuda_gpu_executor.cc:983] successful NUMA node read from SysFS had negative value (-1), but there must be at least one NUMA node, so returning NUMA node zero\n",
            "2020-11-23 16:33:31.655855: I tensorflow/stream_executor/cuda/cuda_gpu_executor.cc:983] successful NUMA node read from SysFS had negative value (-1), but there must be at least one NUMA node, so returning NUMA node zero\n",
            "2020-11-23 16:33:31.656399: W tensorflow/core/common_runtime/gpu/gpu_bfc_allocator.cc:39] Overriding allow_growth setting because the TF_FORCE_GPU_ALLOW_GROWTH environment variable is set. Original config value was 0.\n",
            "2020-11-23 16:33:31.656446: I tensorflow/core/common_runtime/gpu/gpu_device.cc:1325] Created TensorFlow device (/job:localhost/replica:0/task:0/device:GPU:0 with 14221 MB memory) -> physical GPU (device: 0, name: Tesla T4, pci bus id: 0000:00:04.0, compute capability: 7.5)\n",
            "WARNING:tensorflow:From tf1_dualgan.py:226: The name tf.global_variables_initializer is deprecated. Please use tf.compat.v1.global_variables_initializer instead.\n",
            "\n",
            "2020-11-23 16:33:46.046536: I tensorflow/stream_executor/platform/default/dso_loader.cc:44] Successfully opened dynamic library libcudnn.so.7\n",
            "2020-11-23 16:33:51.107033: I tensorflow/stream_executor/platform/default/dso_loader.cc:44] Successfully opened dynamic library libcublas.so.10\n",
            "Epoch 1/45... Discriminator Loss: 3.1935... Generator Loss: 18.9508 A-L1 Loss: 0.3932 B-L1 Loss: 0.4766\n",
            "Epoch 2/45... Discriminator Loss: 3.0888... Generator Loss: 10.3292 A-L1 Loss: 0.1679 B-L1 Loss: 0.2716\n",
            "Epoch 2/45... Discriminator Loss: 2.8106... Generator Loss: 7.0896 A-L1 Loss: 0.1491 B-L1 Loss: 0.1249\n",
            "Epoch 3/45... Discriminator Loss: 2.1490... Generator Loss: 7.7664 A-L1 Loss: 0.1185 B-L1 Loss: 0.1753\n",
            "Epoch 4/45... Discriminator Loss: 2.2131... Generator Loss: 7.2977 A-L1 Loss: 0.1553 B-L1 Loss: 0.1070\n",
            "Epoch 4/45... Discriminator Loss: 2.6678... Generator Loss: 8.1042 A-L1 Loss: 0.1074 B-L1 Loss: 0.2065\n",
            "Epoch 5/45... Discriminator Loss: 2.5976... Generator Loss: 6.9415 A-L1 Loss: 0.1264 B-L1 Loss: 0.1335\n",
            "Epoch 6/45... Discriminator Loss: 2.8518... Generator Loss: 7.1623 A-L1 Loss: 0.0967 B-L1 Loss: 0.1849\n",
            "Epoch 6/45... Discriminator Loss: 2.4838... Generator Loss: 5.4378 A-L1 Loss: 0.0999 B-L1 Loss: 0.0867\n",
            "Epoch 7/45... Discriminator Loss: 2.4923... Generator Loss: 7.3938 A-L1 Loss: 0.1576 B-L1 Loss: 0.1275\n",
            "Epoch 8/45... Discriminator Loss: 2.8635... Generator Loss: 7.3818 A-L1 Loss: 0.1190 B-L1 Loss: 0.1645\n",
            "Epoch 8/45... Discriminator Loss: 2.5266... Generator Loss: 5.7689 A-L1 Loss: 0.1242 B-L1 Loss: 0.0830\n",
            "Epoch 9/45... Discriminator Loss: 2.5301... Generator Loss: 6.0476 A-L1 Loss: 0.1184 B-L1 Loss: 0.0978\n",
            "Epoch 10/45... Discriminator Loss: 2.5343... Generator Loss: 5.0731 A-L1 Loss: 0.0932 B-L1 Loss: 0.0717\n",
            "Epoch 10/45... Discriminator Loss: 2.3711... Generator Loss: 5.5084 A-L1 Loss: 0.1116 B-L1 Loss: 0.0781\n",
            "Epoch 11/45... Discriminator Loss: 2.3383... Generator Loss: 5.6085 A-L1 Loss: 0.1090 B-L1 Loss: 0.0831\n",
            "Epoch 12/45... Discriminator Loss: 2.1999... Generator Loss: 6.5411 A-L1 Loss: 0.1030 B-L1 Loss: 0.1333\n",
            "Epoch 12/45... Discriminator Loss: 2.2256... Generator Loss: 5.4046 A-L1 Loss: 0.1064 B-L1 Loss: 0.0804\n",
            "Epoch 13/45... Discriminator Loss: 2.4643... Generator Loss: 5.9255 A-L1 Loss: 0.1049 B-L1 Loss: 0.1002\n",
            "Epoch 14/45... Discriminator Loss: 2.3959... Generator Loss: 5.7147 A-L1 Loss: 0.0862 B-L1 Loss: 0.1182\n",
            "Epoch 14/45... Discriminator Loss: 2.0910... Generator Loss: 5.6696 A-L1 Loss: 0.1317 B-L1 Loss: 0.0613\n",
            "Epoch 15/45... Discriminator Loss: 2.9473... Generator Loss: 5.2989 A-L1 Loss: 0.1185 B-L1 Loss: 0.0717\n",
            "Epoch 16/45... Discriminator Loss: 2.0184... Generator Loss: 4.9381 A-L1 Loss: 0.0795 B-L1 Loss: 0.0708\n",
            "Epoch 16/45... Discriminator Loss: 2.2791... Generator Loss: 5.6093 A-L1 Loss: 0.1101 B-L1 Loss: 0.0874\n",
            "Epoch 17/45... Discriminator Loss: 2.6949... Generator Loss: 4.4360 A-L1 Loss: 0.0840 B-L1 Loss: 0.0715\n",
            "Epoch 18/45... Discriminator Loss: 1.9511... Generator Loss: 6.0552 A-L1 Loss: 0.1203 B-L1 Loss: 0.0780\n",
            "Epoch 18/45... Discriminator Loss: 2.6886... Generator Loss: 4.2800 A-L1 Loss: 0.0754 B-L1 Loss: 0.0551\n",
            "Epoch 19/45... Discriminator Loss: 2.6199... Generator Loss: 6.3947 A-L1 Loss: 0.1394 B-L1 Loss: 0.0927\n",
            "Epoch 20/45... Discriminator Loss: 2.4780... Generator Loss: 4.8393 A-L1 Loss: 0.0893 B-L1 Loss: 0.0686\n",
            "Epoch 20/45... Discriminator Loss: 2.4863... Generator Loss: 5.2067 A-L1 Loss: 0.0869 B-L1 Loss: 0.0883\n",
            "Epoch 21/45... Discriminator Loss: 2.5496... Generator Loss: 5.0329 A-L1 Loss: 0.0860 B-L1 Loss: 0.0792\n",
            "Epoch 22/45... Discriminator Loss: 2.2809... Generator Loss: 7.2868 A-L1 Loss: 0.1118 B-L1 Loss: 0.1568\n",
            "Epoch 22/45... Discriminator Loss: 2.7660... Generator Loss: 5.3710 A-L1 Loss: 0.1100 B-L1 Loss: 0.0783\n",
            "Epoch 23/45... Discriminator Loss: 2.3598... Generator Loss: 5.1572 A-L1 Loss: 0.0877 B-L1 Loss: 0.0853\n",
            "Epoch 24/45... Discriminator Loss: 2.2107... Generator Loss: 4.7860 A-L1 Loss: 0.0619 B-L1 Loss: 0.0778\n",
            "Epoch 24/45... Discriminator Loss: 2.0850... Generator Loss: 6.8749 A-L1 Loss: 0.0563 B-L1 Loss: 0.1908\n",
            "Epoch 25/45... Discriminator Loss: 1.8850... Generator Loss: 4.3746 A-L1 Loss: 0.0824 B-L1 Loss: 0.0454\n",
            "Epoch 26/45... Discriminator Loss: 2.5120... Generator Loss: 4.7540 A-L1 Loss: 0.0949 B-L1 Loss: 0.0642\n",
            "Epoch 26/45... Discriminator Loss: 2.2963... Generator Loss: 4.0445 A-L1 Loss: 0.0653 B-L1 Loss: 0.0482\n",
            "Epoch 27/45... Discriminator Loss: 2.1464... Generator Loss: 4.5340 A-L1 Loss: 0.0779 B-L1 Loss: 0.0613\n",
            "Epoch 28/45... Discriminator Loss: 2.1440... Generator Loss: 4.7291 A-L1 Loss: 0.0841 B-L1 Loss: 0.0621\n",
            "Epoch 28/45... Discriminator Loss: 2.4945... Generator Loss: 5.1781 A-L1 Loss: 0.0853 B-L1 Loss: 0.0779\n",
            "Epoch 29/45... Discriminator Loss: 2.5135... Generator Loss: 4.9041 A-L1 Loss: 0.1003 B-L1 Loss: 0.0671\n",
            "Epoch 30/45... Discriminator Loss: 1.9348... Generator Loss: 5.1157 A-L1 Loss: 0.0922 B-L1 Loss: 0.0624\n",
            "Epoch 30/45... Discriminator Loss: 2.1797... Generator Loss: 5.2324 A-L1 Loss: 0.0941 B-L1 Loss: 0.0748\n",
            "Epoch 31/45... Discriminator Loss: 1.9770... Generator Loss: 4.5434 A-L1 Loss: 0.0872 B-L1 Loss: 0.0491\n",
            "Epoch 32/45... Discriminator Loss: 2.8074... Generator Loss: 4.8239 A-L1 Loss: 0.0804 B-L1 Loss: 0.0768\n",
            "Epoch 32/45... Discriminator Loss: 2.1849... Generator Loss: 5.9709 A-L1 Loss: 0.0751 B-L1 Loss: 0.1217\n",
            "Epoch 33/45... Discriminator Loss: 2.3079... Generator Loss: 5.5070 A-L1 Loss: 0.0895 B-L1 Loss: 0.0989\n",
            "Epoch 34/45... Discriminator Loss: 2.3506... Generator Loss: 4.4643 A-L1 Loss: 0.0945 B-L1 Loss: 0.0403\n",
            "Epoch 34/45... Discriminator Loss: 2.1998... Generator Loss: 4.9327 A-L1 Loss: 0.0881 B-L1 Loss: 0.0607\n",
            "Epoch 35/45... Discriminator Loss: 2.1158... Generator Loss: 5.2014 A-L1 Loss: 0.0737 B-L1 Loss: 0.0778\n",
            "Epoch 36/45... Discriminator Loss: 2.2290... Generator Loss: 4.6717 A-L1 Loss: 0.0929 B-L1 Loss: 0.0536\n",
            "Epoch 36/45... Discriminator Loss: 2.0661... Generator Loss: 4.7111 A-L1 Loss: 0.0690 B-L1 Loss: 0.0784\n",
            "Epoch 37/45... Discriminator Loss: 2.9883... Generator Loss: 4.5845 A-L1 Loss: 0.0688 B-L1 Loss: 0.0808\n",
            "Epoch 38/45... Discriminator Loss: 2.5145... Generator Loss: 4.3826 A-L1 Loss: 0.0836 B-L1 Loss: 0.0548\n",
            "Epoch 38/45... Discriminator Loss: 2.5641... Generator Loss: 4.4283 A-L1 Loss: 0.0795 B-L1 Loss: 0.0648\n",
            "Epoch 39/45... Discriminator Loss: 2.2182... Generator Loss: 4.1675 A-L1 Loss: 0.0704 B-L1 Loss: 0.0469\n",
            "Epoch 40/45... Discriminator Loss: 2.2566... Generator Loss: 4.4412 A-L1 Loss: 0.0911 B-L1 Loss: 0.0466\n",
            "Epoch 40/45... Discriminator Loss: 2.2483... Generator Loss: 4.7670 A-L1 Loss: 0.0809 B-L1 Loss: 0.0632\n",
            "Epoch 41/45... Discriminator Loss: 2.3205... Generator Loss: 4.3821 A-L1 Loss: 0.0785 B-L1 Loss: 0.0521\n",
            "Epoch 42/45... Discriminator Loss: 2.3686... Generator Loss: 4.1066 A-L1 Loss: 0.0725 B-L1 Loss: 0.0459\n",
            "Epoch 42/45... Discriminator Loss: 2.5566... Generator Loss: 4.0433 A-L1 Loss: 0.0638 B-L1 Loss: 0.0676\n",
            "Epoch 43/45... Discriminator Loss: 2.5338... Generator Loss: 3.8214 A-L1 Loss: 0.0606 B-L1 Loss: 0.0554\n",
            "Epoch 44/45... Discriminator Loss: 2.4099... Generator Loss: 4.9461 A-L1 Loss: 0.1043 B-L1 Loss: 0.0536\n",
            "Epoch 44/45... Discriminator Loss: 2.5277... Generator Loss: 4.3352 A-L1 Loss: 0.0654 B-L1 Loss: 0.0689\n",
            "Epoch 45/45... Discriminator Loss: 2.6388... Generator Loss: 4.2552 A-L1 Loss: 0.0688 B-L1 Loss: 0.0604\n",
            "[Training]: Data: day-night, Epochs: 45.000000, Batch_size:  2, Elapsed time: 2717.512214\n",
            "\n",
            "32\n",
            "120\n",
            "2020-11-23 17:18:53.984236: I tensorflow/stream_executor/cuda/cuda_gpu_executor.cc:983] successful NUMA node read from SysFS had negative value (-1), but there must be at least one NUMA node, so returning NUMA node zero\n",
            "2020-11-23 17:18:53.984695: I tensorflow/core/common_runtime/gpu/gpu_device.cc:1639] Found device 0 with properties: \n",
            "name: Tesla T4 major: 7 minor: 5 memoryClockRate(GHz): 1.59\n",
            "pciBusID: 0000:00:04.0\n",
            "2020-11-23 17:18:53.984814: I tensorflow/stream_executor/platform/default/dso_loader.cc:44] Successfully opened dynamic library libcudart.so.10.1\n",
            "2020-11-23 17:18:53.984840: I tensorflow/stream_executor/platform/default/dso_loader.cc:44] Successfully opened dynamic library libcublas.so.10\n",
            "2020-11-23 17:18:53.984864: I tensorflow/stream_executor/platform/default/dso_loader.cc:44] Successfully opened dynamic library libcufft.so.10\n",
            "2020-11-23 17:18:53.984888: I tensorflow/stream_executor/platform/default/dso_loader.cc:44] Successfully opened dynamic library libcurand.so.10\n",
            "2020-11-23 17:18:53.984913: I tensorflow/stream_executor/platform/default/dso_loader.cc:44] Successfully opened dynamic library libcusolver.so.10\n",
            "2020-11-23 17:18:53.984933: I tensorflow/stream_executor/platform/default/dso_loader.cc:44] Successfully opened dynamic library libcusparse.so.10\n",
            "2020-11-23 17:18:53.984957: I tensorflow/stream_executor/platform/default/dso_loader.cc:44] Successfully opened dynamic library libcudnn.so.7\n",
            "2020-11-23 17:18:53.985042: I tensorflow/stream_executor/cuda/cuda_gpu_executor.cc:983] successful NUMA node read from SysFS had negative value (-1), but there must be at least one NUMA node, so returning NUMA node zero\n",
            "2020-11-23 17:18:53.985516: I tensorflow/stream_executor/cuda/cuda_gpu_executor.cc:983] successful NUMA node read from SysFS had negative value (-1), but there must be at least one NUMA node, so returning NUMA node zero\n",
            "2020-11-23 17:18:53.985887: I tensorflow/core/common_runtime/gpu/gpu_device.cc:1767] Adding visible gpu devices: 0\n",
            "2020-11-23 17:18:53.986040: I tensorflow/core/common_runtime/gpu/gpu_device.cc:1180] Device interconnect StreamExecutor with strength 1 edge matrix:\n",
            "2020-11-23 17:18:53.986058: I tensorflow/core/common_runtime/gpu/gpu_device.cc:1186]      0 \n",
            "2020-11-23 17:18:53.986069: I tensorflow/core/common_runtime/gpu/gpu_device.cc:1199] 0:   N \n",
            "2020-11-23 17:18:53.986188: I tensorflow/stream_executor/cuda/cuda_gpu_executor.cc:983] successful NUMA node read from SysFS had negative value (-1), but there must be at least one NUMA node, so returning NUMA node zero\n",
            "2020-11-23 17:18:53.986615: I tensorflow/stream_executor/cuda/cuda_gpu_executor.cc:983] successful NUMA node read from SysFS had negative value (-1), but there must be at least one NUMA node, so returning NUMA node zero\n",
            "2020-11-23 17:18:53.987009: I tensorflow/core/common_runtime/gpu/gpu_device.cc:1325] Created TensorFlow device (/job:localhost/replica:0/task:0/device:GPU:0 with 14221 MB memory) -> physical GPU (device: 0, name: Tesla T4, pci bus id: 0000:00:04.0, compute capability: 7.5)\n"
          ],
          "name": "stdout"
        }
      ]
    },
    {
      "cell_type": "code",
      "metadata": {
        "id": "NhZldNaY9OfT"
      },
      "source": [
        ""
      ],
      "execution_count": null,
      "outputs": []
    }
  ]
}